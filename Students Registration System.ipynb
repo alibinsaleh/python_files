{
 "cells": [
  {
   "cell_type": "code",
   "execution_count": 1,
   "metadata": {},
   "outputs": [],
   "source": [
    "import datetime"
   ]
  },
  {
   "cell_type": "markdown",
   "metadata": {},
   "source": [
    "# Setup Student Class"
   ]
  },
  {
   "cell_type": "code",
   "execution_count": 2,
   "metadata": {},
   "outputs": [],
   "source": [
    "class Student:\n",
    "    def __init__(self, accademic_num, name, dob=datetime.date(2000,1,1), level=1):\n",
    "        self.accademic_num = accademic_num\n",
    "        self.name = name\n",
    "        self.dob = dob\n",
    "        self.level = level\n",
    "        self.enrolled_courses = []\n",
    "    \n",
    "    def display_student(self):\n",
    "        print('Accademic Number: ', self.accademic_num)\n",
    "        print('Name: ', self.name)\n",
    "        print('Date of birth: ', self.dob)\n",
    "        print('Level: ', self.level)\n",
    "        print('Registered Courses')\n",
    "        for course in self.enrolled_courses:\n",
    "            print(course.course_name)\n",
    "    \n",
    "    def enroll(self, course):\n",
    "        self.enrolled_courses.append(course)\n",
    "        course.enrolled_students.append(self)\n",
    "        \n",
    "    def drop(self, course):\n",
    "        self.enrolled_courses.remove(course)\n",
    "        course.enrolled_students.remove(self)\n",
    "        \n",
    "    def print_transcript(self):\n",
    "        for course in self.enrolled_courses:\n",
    "            print(\"\\t\" + course.course_name + \": \" + str(course.get_overall_grade_for(self)))\n",
    "    \n",
    "\n"
   ]
  },
  {
   "cell_type": "markdown",
   "metadata": {},
   "source": [
    "# Setup Course Class"
   ]
  },
  {
   "cell_type": "code",
   "execution_count": 3,
   "metadata": {},
   "outputs": [],
   "source": [
    "class Course:\n",
    "    def __init__(self, course_id, course_name, course_hours=5):\n",
    "        self.course_id = course_id\n",
    "        self.course_name = course_name\n",
    "        self.course_hours = course_hours\n",
    "        \n",
    "        self.enrolled_students = []\n",
    "        self.assignments = {}\n",
    "        \n",
    "    def print_enrolled_students(self):\n",
    "        print('Enrolled Students')\n",
    "        for student in self.enrolled_students:\n",
    "            print(student.name)\n",
    "    \n",
    "    \n",
    "    def add_assignment(self, assignment):\n",
    "        self.assignments[assignment] = {}\n",
    "        \n",
    "    def set_grade(self, assignment, student, grade):\n",
    "        self.assignments[assignment][student] = grade\n",
    "        \n",
    "    def get_overall_grade_for(self, student):\n",
    "        sum_scores = 0\n",
    "        num_graded = 0\n",
    "        for assignment, grades in self.assignments.items():\n",
    "            if student in grades.keys():\n",
    "                sum_scores += grades[student]\n",
    "                num_graded += 1\n",
    "        if num_graded == 0:\n",
    "            return \"N/A\"\n",
    "        \n",
    "        return sum_scores / float(num_graded)\n",
    "    \n",
    "    \n",
    "    def list_assignments(self):\n",
    "        print('Assignments of '+self.course_name+' :')\n",
    "        for k,v in self.assignments.items():\n",
    "            print(v)"
   ]
  },
  {
   "cell_type": "code",
   "execution_count": 4,
   "metadata": {},
   "outputs": [],
   "source": [
    "ali = Student('41000', 'Ali Almohammed Saleh')\n",
    "sami = Student('41001', 'Sami Alghazal')"
   ]
  },
  {
   "cell_type": "code",
   "execution_count": 5,
   "metadata": {},
   "outputs": [],
   "source": [
    "computer = Course('101', 'Computer 1')\n",
    "physics = Course('102', 'Physics 1')\n",
    "chemistry = Course('103', 'Chemistry')"
   ]
  },
  {
   "cell_type": "code",
   "execution_count": 6,
   "metadata": {},
   "outputs": [],
   "source": [
    "computer.add_assignment('Quiz 1')\n",
    "computer.add_assignment('Homework 1')\n",
    "computer.add_assignment('Quiz 2')\n",
    "computer.add_assignment('Homework 2')\n",
    "chemistry.add_assignment('Quiz 1')\n",
    "chemistry.add_assignment('Homework 1')\n",
    "chemistry.add_assignment('Quiz 2')\n",
    "chemistry.add_assignment('Homework 2')"
   ]
  },
  {
   "cell_type": "code",
   "execution_count": 7,
   "metadata": {},
   "outputs": [],
   "source": [
    "computer.set_grade('Quiz 1', ali, 100)\n",
    "computer.set_grade('Homework 1', ali, 5)\n",
    "\n",
    "chemistry.set_grade('Quiz 1', sami, 100)\n",
    "chemistry.set_grade('Homework 1', sami, 5)"
   ]
  },
  {
   "cell_type": "code",
   "execution_count": 8,
   "metadata": {},
   "outputs": [],
   "source": [
    "ali.enroll(computer)\n",
    "ali.enroll(physics)\n",
    "ali.enroll(chemistry)\n",
    "sami.enroll(computer)\n",
    "sami.enroll(physics)\n",
    "sami.enroll(chemistry)"
   ]
  },
  {
   "cell_type": "code",
   "execution_count": 9,
   "metadata": {},
   "outputs": [
    {
     "name": "stdout",
     "output_type": "stream",
     "text": [
      "Accademic Number:  41000\n",
      "Name:  Ali Almohammed Saleh\n",
      "Date of birth:  2000-01-01\n",
      "Level:  1\n",
      "Registered Courses\n",
      "Computer 1\n",
      "Physics 1\n",
      "Chemistry\n",
      "Accademic Number:  41000\n",
      "Name:  Ali Almohammed Saleh\n",
      "Date of birth:  2000-01-01\n",
      "Level:  1\n",
      "Registered Courses\n",
      "Computer 1\n",
      "Chemistry\n"
     ]
    }
   ],
   "source": [
    "ali.display_student()\n",
    "ali.drop(physics)\n",
    "ali.display_student()"
   ]
  },
  {
   "cell_type": "code",
   "execution_count": 10,
   "metadata": {},
   "outputs": [
    {
     "name": "stdout",
     "output_type": "stream",
     "text": [
      "Enrolled Students\n",
      "Ali Almohammed Saleh\n",
      "Sami Alghazal\n"
     ]
    }
   ],
   "source": [
    "computer.print_enrolled_students()"
   ]
  },
  {
   "cell_type": "code",
   "execution_count": 11,
   "metadata": {},
   "outputs": [
    {
     "name": "stdout",
     "output_type": "stream",
     "text": [
      "Assignments of Computer 1 :\n",
      "{<__main__.Student object at 0x111c1fe80>: 100}\n",
      "{<__main__.Student object at 0x111c1fe80>: 5}\n",
      "{}\n",
      "{}\n"
     ]
    }
   ],
   "source": [
    "computer.list_assignments()"
   ]
  },
  {
   "cell_type": "code",
   "execution_count": 12,
   "metadata": {},
   "outputs": [
    {
     "name": "stdout",
     "output_type": "stream",
     "text": [
      "\tComputer 1: 52.5\n",
      "\tChemistry: N/A\n",
      "---------\n",
      "\tComputer 1: N/A\n",
      "\tPhysics 1: N/A\n",
      "\tChemistry: 52.5\n"
     ]
    }
   ],
   "source": [
    "ali.print_transcript()\n",
    "print('---------')\n",
    "sami.print_transcript()"
   ]
  },
  {
   "cell_type": "code",
   "execution_count": 13,
   "metadata": {},
   "outputs": [],
   "source": [
    "ali = Student('111', 'Ali Almohammed Saleh')\n",
    "sami = Student('110', 'Sami the Sami')\n",
    "enrolled = []\n",
    "enrolled.append(ali)\n",
    "enrolled.append(sami)\n",
    "\n",
    "tasks = {}\n",
    "\n",
    "tasks['first'] = {}\n",
    "tasks['second'] = {}\n",
    "tasks['third'] = {}\n",
    "tasks['fourth'] = {}\n",
    "\n",
    "tasks['first'][ali] = 100\n",
    "tasks['first'][sami] = 98\n",
    "\n",
    "\n",
    "tasks['second'][ali] = 95\n",
    "tasks['second'][sami] = 73\n",
    "\n",
    "#tasks['third'][ali] = 85\n",
    "tasks['fourth'][ali] = 77\n"
   ]
  },
  {
   "cell_type": "code",
   "execution_count": 14,
   "metadata": {},
   "outputs": [
    {
     "name": "stdout",
     "output_type": "stream",
     "text": [
      "Ali Almohammed Saleh\n",
      "first 100\n",
      "second 95\n",
      "N/A\n",
      "fourth 77\n",
      "Sami the Sami\n",
      "first 98\n",
      "second 73\n",
      "N/A\n",
      "N/A\n"
     ]
    }
   ],
   "source": [
    "for student in enrolled:\n",
    "    print(student.name)\n",
    "    for k,v in tasks.items():\n",
    "        graded = 0\n",
    "        if student in v.keys():\n",
    "            print(k, v[student])\n",
    "            graded += 1\n",
    "        if graded == 0:\n",
    "            print('N/A')\n",
    "        "
   ]
  },
  {
   "cell_type": "code",
   "execution_count": null,
   "metadata": {},
   "outputs": [],
   "source": []
  }
 ],
 "metadata": {
  "kernelspec": {
   "display_name": "Python 3",
   "language": "python",
   "name": "python3"
  },
  "language_info": {
   "codemirror_mode": {
    "name": "ipython",
    "version": 3
   },
   "file_extension": ".py",
   "mimetype": "text/x-python",
   "name": "python",
   "nbconvert_exporter": "python",
   "pygments_lexer": "ipython3",
   "version": "3.7.2"
  }
 },
 "nbformat": 4,
 "nbformat_minor": 4
}
