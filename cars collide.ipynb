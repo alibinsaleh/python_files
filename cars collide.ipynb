{
 "cells": [
  {
   "cell_type": "code",
   "execution_count": 25,
   "metadata": {},
   "outputs": [],
   "source": [
    "import sys\n",
    "import time\n",
    "import random\n",
    "import matplotlib.pyplot as plt\n",
    "\n",
    "class Car:\n",
    "    def __init__(self, posX, posY, length=10, width=10):\n",
    "        self.posX = posX\n",
    "        self.posY = posY\n",
    "        self.length = length\n",
    "        self.width = width\n",
    "        self.state = 'Neutral'\n",
    "        \n",
    "    def get_state(self):\n",
    "        sys.stdout.write(\"Car State: %s - Car Position: %d   \\r\" % (self.state, self.posX) )\n",
    "        sys.stdout.flush()\n",
    "        \n",
    "        #print('Car State: ', self.state, 'Car Position: ', self.posX, end='')\n",
    "        \n",
    "    def get_posX(self):\n",
    "        return self.posX\n",
    "    \n",
    "    def neutral(self):\n",
    "        self.state = 'Neutral'\n",
    "    \n",
    "    \n",
    "    def move_forward(self):\n",
    "        self.state = 'Moving Forward'\n",
    "        self.posX += 1\n",
    "    \n",
    "    def move_backward(self):\n",
    "        self.state = 'Moving Backward'\n",
    "        self.posX -= 1\n",
    "    \n",
    "    def turn_right(self):\n",
    "        self.state = 'Turning Right'\n",
    "                     \n",
    "    def turn_left(self):\n",
    "        self.state = 'Turning Left'\n",
    "    \n",
    "    \n",
    "    \n",
    "    "
   ]
  },
  {
   "cell_type": "code",
   "execution_count": 50,
   "metadata": {},
   "outputs": [
    {
     "name": "stdout",
     "output_type": "stream",
     "text": [
      "[201, 202, 203, 202, 201, 202, 203, 202, 203, 204, 203, 202, 203, 204, 205, 206, 205, 206, 207, 208, 207, 208, 209, 208, 209, 208, 209, 208, 209, 208, 209, 210, 211, 212, 211, 210, 211, 210, 211, 212, 211, 212, 213, 214, 213, 214, 213, 212, 211, 210, 211, 212, 211, 212, 211, 210, 209, 208, 207, 206, 207, 208, 207, 206, 207, 206, 207, 208, 207, 208, 209, 210, 211, 212, 211, 212, 211, 212, 211, 210, 209, 210, 209, 208, 207, 206, 205, 204, 205, 206, 207, 206, 207, 206, 207, 208, 207, 208, 209, 208]\n",
      "100 0\n"
     ]
    },
    {
     "data": {
      "image/png": "[encoded data removed]",
      "text/plain": [
       "<Figure size 432x288 with 1 Axes>"
      ]
     },
     "metadata": {
      "needs_background": "light"
     },
     "output_type": "display_data"
    }
   ],
   "source": [
    "car1 = Car(200, 299)\n",
    "positions = []\n",
    "count = 0\n",
    "while count < 100:\n",
    "    direction = random.randint(1, 2)\n",
    "    if direction == 1:\n",
    "        car1.move_forward()\n",
    "    else:\n",
    "        car1.move_backward()\n",
    "        \n",
    "    positions.append(car1.get_posX())\n",
    "    car1.get_state()\n",
    "    #time.sleep(1)\n",
    "    count += 1\n",
    "print(positions)\n",
    "plt.plot(positions)\n",
    "above_200 = sum(x > 199 for x in positions)\n",
    "less_200 = sum(x < 200 for x in positions)\n",
    "print(above_200, less_200)"
   ]
  },
  {
   "cell_type": "code",
   "execution_count": 3,
   "metadata": {},
   "outputs": [],
   "source": [
    "car1.move_forward()"
   ]
  },
  {
   "cell_type": "code",
   "execution_count": 4,
   "metadata": {},
   "outputs": [
    {
     "name": "stdout",
     "output_type": "stream",
     "text": [
      "Car State:  Moving Forward Car Position:  201"
     ]
    }
   ],
   "source": [
    "car1.get_state()"
   ]
  },
  {
   "cell_type": "code",
   "execution_count": null,
   "metadata": {},
   "outputs": [],
   "source": []
  },
  {
   "cell_type": "code",
   "execution_count": null,
   "metadata": {},
   "outputs": [],
   "source": []
  }
 ],
 "metadata": {
  "kernelspec": {
   "display_name": "Python 3",
   "language": "python",
   "name": "python3"
  },
  "language_info": {
   "codemirror_mode": {
    "name": "ipython",
    "version": 3
   },
   "file_extension": ".py",
   "mimetype": "text/x-python",
   "name": "python",
   "nbconvert_exporter": "python",
   "pygments_lexer": "ipython3",
   "version": "3.7.2"
  }
 },
 "nbformat": 4,
 "nbformat_minor": 2
}
