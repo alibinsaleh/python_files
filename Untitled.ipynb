{
 "cells": [
  {
   "cell_type": "code",
   "execution_count": 1,
   "metadata": {},
   "outputs": [
    {
     "name": "stdout",
     "output_type": "stream",
     "text": [
      "Want to enroll some students now? (y/n):\n",
      "y\n",
      "Enter student name (none to finish):\n",
      "Ali\n",
      "Enter student name (none to finish):\n",
      "Sami\n",
      "Enter student name (none to finish):\n",
      "Fahad\n",
      "Enter student name (none to finish):\n",
      "Waleed\n",
      "Enter student name (none to finish):\n",
      "\n",
      "Enter student name (none to finish):\n",
      "none\n",
      "Ali Almohammed Saleh\n"
     ]
    },
    {
     "ename": "AttributeError",
     "evalue": "'Student' object has no attribute 'name'",
     "output_type": "error",
     "traceback": [
      "\u001b[0;31m---------------------------------------------------------------------------\u001b[0m",
      "\u001b[0;31mAttributeError\u001b[0m                            Traceback (most recent call last)",
      "\u001b[0;32m<ipython-input-1-c21fc291705e>\u001b[0m in \u001b[0;36m<module>\u001b[0;34m\u001b[0m\n\u001b[1;32m     64\u001b[0m \u001b[0;34m\u001b[0m\u001b[0m\n\u001b[1;32m     65\u001b[0m \u001b[0;32mif\u001b[0m \u001b[0m__name__\u001b[0m \u001b[0;34m==\u001b[0m \u001b[0;34m\"__main__\"\u001b[0m\u001b[0;34m:\u001b[0m\u001b[0;34m\u001b[0m\u001b[0;34m\u001b[0m\u001b[0m\n\u001b[0;32m---> 66\u001b[0;31m     \u001b[0mmain\u001b[0m\u001b[0;34m(\u001b[0m\u001b[0;34m)\u001b[0m\u001b[0;34m\u001b[0m\u001b[0;34m\u001b[0m\u001b[0m\n\u001b[0m",
      "\u001b[0;32m<ipython-input-1-c21fc291705e>\u001b[0m in \u001b[0;36mmain\u001b[0;34m()\u001b[0m\n\u001b[1;32m     60\u001b[0m     \u001b[0;31m#x.enroll('Kamal')\u001b[0m\u001b[0;34m\u001b[0m\u001b[0;34m\u001b[0m\u001b[0;34m\u001b[0m\u001b[0m\n\u001b[1;32m     61\u001b[0m     \u001b[0mstudent\u001b[0m\u001b[0;34m.\u001b[0m\u001b[0mstore\u001b[0m\u001b[0;34m(\u001b[0m\u001b[0;34m)\u001b[0m\u001b[0;34m\u001b[0m\u001b[0;34m\u001b[0m\u001b[0m\n\u001b[0;32m---> 62\u001b[0;31m     \u001b[0mstudent\u001b[0m\u001b[0;34m.\u001b[0m\u001b[0mshow_all\u001b[0m\u001b[0;34m(\u001b[0m\u001b[0;34m)\u001b[0m\u001b[0;34m\u001b[0m\u001b[0;34m\u001b[0m\u001b[0m\n\u001b[0m\u001b[1;32m     63\u001b[0m \u001b[0;34m\u001b[0m\u001b[0m\n\u001b[1;32m     64\u001b[0m \u001b[0;34m\u001b[0m\u001b[0m\n",
      "\u001b[0;32m<ipython-input-1-c21fc291705e>\u001b[0m in \u001b[0;36mshow_all\u001b[0;34m(self)\u001b[0m\n\u001b[1;32m     23\u001b[0m         \u001b[0;32mfor\u001b[0m \u001b[0ml\u001b[0m \u001b[0;32min\u001b[0m \u001b[0mself\u001b[0m\u001b[0;34m.\u001b[0m\u001b[0mstudents\u001b[0m\u001b[0;34m:\u001b[0m\u001b[0;34m\u001b[0m\u001b[0;34m\u001b[0m\u001b[0m\n\u001b[1;32m     24\u001b[0m             \u001b[0mprint\u001b[0m\u001b[0;34m(\u001b[0m\u001b[0ml\u001b[0m\u001b[0;34m)\u001b[0m\u001b[0;34m\u001b[0m\u001b[0;34m\u001b[0m\u001b[0m\n\u001b[0;32m---> 25\u001b[0;31m             \u001b[0mself\u001b[0m\u001b[0;34m.\u001b[0m\u001b[0mshow_person\u001b[0m\u001b[0;34m(\u001b[0m\u001b[0;34m)\u001b[0m\u001b[0;34m\u001b[0m\u001b[0;34m\u001b[0m\u001b[0m\n\u001b[0m\u001b[1;32m     26\u001b[0m \u001b[0;34m\u001b[0m\u001b[0m\n\u001b[1;32m     27\u001b[0m     \u001b[0;32mdef\u001b[0m \u001b[0mread_data\u001b[0m\u001b[0;34m(\u001b[0m\u001b[0mself\u001b[0m\u001b[0;34m)\u001b[0m\u001b[0;34m:\u001b[0m\u001b[0;34m\u001b[0m\u001b[0;34m\u001b[0m\u001b[0m\n",
      "\u001b[0;32m<ipython-input-1-c21fc291705e>\u001b[0m in \u001b[0;36mshow_person\u001b[0;34m(self)\u001b[0m\n\u001b[1;32m      6\u001b[0m \u001b[0;34m\u001b[0m\u001b[0m\n\u001b[1;32m      7\u001b[0m     \u001b[0;32mdef\u001b[0m \u001b[0mshow_person\u001b[0m\u001b[0;34m(\u001b[0m\u001b[0mself\u001b[0m\u001b[0;34m)\u001b[0m\u001b[0;34m:\u001b[0m\u001b[0;34m\u001b[0m\u001b[0;34m\u001b[0m\u001b[0m\n\u001b[0;32m----> 8\u001b[0;31m         \u001b[0mprint\u001b[0m\u001b[0;34m(\u001b[0m\u001b[0;34m'Name:'\u001b[0m\u001b[0;34m,\u001b[0m \u001b[0mself\u001b[0m\u001b[0;34m.\u001b[0m\u001b[0mname\u001b[0m\u001b[0;34m)\u001b[0m\u001b[0;34m\u001b[0m\u001b[0;34m\u001b[0m\u001b[0m\n\u001b[0m\u001b[1;32m      9\u001b[0m         \u001b[0mprint\u001b[0m\u001b[0;34m(\u001b[0m\u001b[0;34m'Date of Birth:'\u001b[0m\u001b[0;34m,\u001b[0m \u001b[0mself\u001b[0m\u001b[0;34m.\u001b[0m\u001b[0mdob\u001b[0m\u001b[0;34m)\u001b[0m\u001b[0;34m\u001b[0m\u001b[0;34m\u001b[0m\u001b[0m\n\u001b[1;32m     10\u001b[0m         \u001b[0mprint\u001b[0m\u001b[0;34m(\u001b[0m\u001b[0;34m'Address:'\u001b[0m\u001b[0;34m,\u001b[0m \u001b[0mself\u001b[0m\u001b[0;34m.\u001b[0m\u001b[0maddress\u001b[0m\u001b[0;34m)\u001b[0m\u001b[0;34m\u001b[0m\u001b[0;34m\u001b[0m\u001b[0m\n",
      "\u001b[0;31mAttributeError\u001b[0m: 'Student' object has no attribute 'name'"
     ]
    }
   ],
   "source": [
    "class Person:\n",
    "    def __init__(self, name, dob, address):\n",
    "        self.name = name\n",
    "        self.dob = dob\n",
    "        self.address = address\n",
    "\n",
    "    def show_person(self):\n",
    "        print('Name:', self.name)\n",
    "        print('Date of Birth:', self.dob)\n",
    "        print('Address:', self.address)\n",
    "\n",
    "\n",
    "\n",
    "class Student(Person):\n",
    "    def __init__(self):\n",
    "        self.students = []\n",
    "        self.read_data()\n",
    "\n",
    "    def enroll(self, name):\n",
    "        self.students.append(name)\n",
    "\n",
    "    def show_all(self):\n",
    "        for l in self.students:\n",
    "            print(l)\n",
    "            self.show_person()\n",
    "\n",
    "    def read_data(self):\n",
    "        try:\n",
    "            with open('test_data.txt', 'r') as f:\n",
    "                for i in f.readlines():\n",
    "                    self.students.append(i.strip())\n",
    "        except:\n",
    "            print('Sorry, file does not exist, I will create it.')\n",
    "            f = open('test_data.txt', 'w')\n",
    "        finally:\n",
    "            f.close()\n",
    "\n",
    "\n",
    "    def store(self):\n",
    "        with open('test_data.txt', 'w') as f:\n",
    "            for l in self.students:\n",
    "                f.write(l+'\\n')\n",
    "            f.close()\n",
    "\n",
    "\n",
    "def main():\n",
    "    student = Student()\n",
    "    print('Want to enroll some students now? (y/n):')\n",
    "    ans = input()\n",
    "    if ans.lower() == 'y':\n",
    "        while True:\n",
    "            print('Enter student name (none to finish):')\n",
    "            n = input()\n",
    "            if n.lower() == 'none':\n",
    "                break\n",
    "            student.enroll(n)\n",
    "\n",
    "    #x.enroll('Saleh')\n",
    "    #x.enroll('Waheed')\n",
    "    #x.enroll('Kamal')\n",
    "    student.store()\n",
    "    student.show_all()\n",
    "\n",
    "\n",
    "if __name__ == \"__main__\":\n",
    "    main()\n"
   ]
  },
  {
   "cell_type": "code",
   "execution_count": 5,
   "metadata": {},
   "outputs": [],
   "source": [
    "class Person:\n",
    "    def __init__(self, name, dob, address):\n",
    "        self.name = name\n",
    "        self.dob = dob\n",
    "        self.address = address\n",
    "\n",
    "    def show(self):\n",
    "        print('Name:', self.name)\n",
    "        print('Date of Birth:', self.dob)\n",
    "        print('Address:', self.address)\n",
    "    \n",
    "    \n",
    "        \n",
    "    \n",
    "class Student(Person):\n",
    "    number_of_students = 0\n",
    "    def __init__(self, name, dob, address, grade):\n",
    "        super().__init__(name, dob, address)\n",
    "        self.grade = grade\n",
    "        Student.number_of_students += 1\n",
    "        \n",
    "    def show(self):\n",
    "        Person.show(self)\n",
    "        print('Grade:', self.grade)\n",
    "        \n",
    "    @classmethod\n",
    "    def get_number_of_students(cls):\n",
    "        return cls.number_of_students\n",
    "        \n",
    "class Teacher(Person):\n",
    "    def __init__(self, name, dob, address, major):\n",
    "        super().__init__(name, dob, address)\n",
    "        self.major = major"
   ]
  },
  {
   "cell_type": "code",
   "execution_count": 6,
   "metadata": {},
   "outputs": [],
   "source": [
    "s1 = Student('Ali', '01.01.2000', 'KSA', 95)\n",
    "s2 = Student('Sami', '01.01.2000', 'KSA', 80)\n",
    "t1 = Teacher('Fahmi', '01.01.1968', 'KSA', 'Computer Science')"
   ]
  },
  {
   "cell_type": "code",
   "execution_count": 7,
   "metadata": {},
   "outputs": [
    {
     "data": {
      "text/plain": [
       "'Ali'"
      ]
     },
     "execution_count": 7,
     "metadata": {},
     "output_type": "execute_result"
    }
   ],
   "source": [
    "s1.name"
   ]
  },
  {
   "cell_type": "code",
   "execution_count": 8,
   "metadata": {},
   "outputs": [
    {
     "name": "stdout",
     "output_type": "stream",
     "text": [
      "Name: Ali\n",
      "Date of Birth: 01.01.2000\n",
      "Address: KSA\n",
      "Grade: 95\n"
     ]
    }
   ],
   "source": [
    "s1.show()"
   ]
  },
  {
   "cell_type": "code",
   "execution_count": 9,
   "metadata": {},
   "outputs": [
    {
     "name": "stdout",
     "output_type": "stream",
     "text": [
      "2\n"
     ]
    }
   ],
   "source": [
    "print(s1.get_number_of_students())"
   ]
  },
  {
   "cell_type": "code",
   "execution_count": 10,
   "metadata": {},
   "outputs": [
    {
     "name": "stdout",
     "output_type": "stream",
     "text": [
      "10\n"
     ]
    }
   ],
   "source": [
    "Student.number_of_students = 10\n",
    "print(Student.get_number_of_students())"
   ]
  },
  {
   "cell_type": "code",
   "execution_count": 64,
   "metadata": {},
   "outputs": [
    {
     "name": "stdout",
     "output_type": "stream",
     "text": [
      "10\n"
     ]
    }
   ],
   "source": [
    "print(s1.get_number_of_students())"
   ]
  },
  {
   "cell_type": "code",
   "execution_count": 4,
   "metadata": {},
   "outputs": [],
   "source": [
    "import sklearn"
   ]
  },
  {
   "cell_type": "code",
   "execution_count": null,
   "metadata": {},
   "outputs": [],
   "source": []
  },
  {
   "cell_type": "code",
   "execution_count": null,
   "metadata": {},
   "outputs": [],
   "source": []
  },
  {
   "cell_type": "code",
   "execution_count": null,
   "metadata": {},
   "outputs": [],
   "source": []
  },
  {
   "cell_type": "code",
   "execution_count": null,
   "metadata": {},
   "outputs": [],
   "source": []
  }
 ],
 "metadata": {
  "kernelspec": {
   "display_name": "Python 3",
   "language": "python",
   "name": "python3"
  },
  "language_info": {
   "codemirror_mode": {
    "name": "ipython",
    "version": 3
   },
   "file_extension": ".py",
   "mimetype": "text/x-python",
   "name": "python",
   "nbconvert_exporter": "python",
   "pygments_lexer": "ipython3",
   "version": "3.7.2"
  }
 },
 "nbformat": 4,
 "nbformat_minor": 4
}
