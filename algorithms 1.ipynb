{
 "cells": [
  {
   "cell_type": "markdown",
   "metadata": {},
   "source": [
    "# Using (with open) to read words into a list"
   ]
  },
  {
   "cell_type": "code",
   "execution_count": null,
   "metadata": {},
   "outputs": [],
   "source": [
    "import random\n",
    "\n",
    "# the words stored in the words.txt are already sorted alphabetically, so, I need them randomly sorted \n",
    "# to apply some sorting algorithms later\n",
    "def unsort_words(mylist):\n",
    "    new_list = []\n",
    "    counter = 0\n",
    "    while counter < (len(mylist)-1):\n",
    "        r = random.randint(0, (len(mylist)-1))\n",
    "        #print(mylist[r])\n",
    "        if mylist[r] not in new_list:\n",
    "            new_list.append(mylist[r])\n",
    "            counter += 1\n",
    "    return new_list\n",
    "\n",
    "#print(words_list)\n",
    "with open('source/engmix.txt', 'r') as f:\n",
    "    words_list = f.read().splitlines()\n",
    "\n",
    "unsorted_words = unsort_words(words_list)\n",
    "f.close()\n",
    "\n",
    "\n",
    "\n",
    "# now write the unsorted words_list to a new file (unsorted_words.txt)\n",
    "f = open('source/unsorted_engmix.txt', 'w')\n",
    "for line in unsorted_words:\n",
    "    f.write(line + '\\n')\n",
    "f.close()\n",
    "\n"
   ]
  },
  {
   "cell_type": "markdown",
   "metadata": {},
   "source": [
    "# Bubble Sort"
   ]
  },
  {
   "cell_type": "code",
   "execution_count": null,
   "metadata": {},
   "outputs": [],
   "source": [
    "import sys\n",
    "import time\n",
    "\n",
    "# Read words from file into (words_list) list.\n",
    "with open('source/unsorted_engmix.txt', 'r') as f:\n",
    "    words_list = f.read().splitlines()\n",
    "\n",
    "# print('Unsorted Words.')\n",
    "# print(words_list)\n",
    "progress = round(len(words_list) / 100)\n",
    "print(progress)\n",
    "for i in range(len(words_list)-1):\n",
    "    sys.stdout.write('\\rSorting {:02d} words: {}{}%'.format(i,  '.' * round(i / 100), round(i / progress)))\n",
    "    sys.stdout.flush()\n",
    "    # if you want a spinning cursor instead, uncomment the following lines\n",
    "#     for cursor in '\\\\|/-':\n",
    "#         time.sleep(0.1)\n",
    "#         sys.stdout.write('\\r{}'.format(cursor))\n",
    "#         # Force Python to write data into terminal.\n",
    "#         sys.stdout.flush()\n",
    "   \n",
    "    \n",
    "    for j in range(len(words_list)-1):\n",
    "        if words_list[j] > words_list[j+1]:\n",
    "            temp = words_list[j]\n",
    "            words_list[j] = words_list[j+1]\n",
    "            words_list[j+1] = temp\n",
    "\n",
    "\n",
    "print('\\n\\n\\nSorted Words.\\n')\n",
    "for w in words_list:\n",
    "    print(w)"
   ]
  },
  {
   "cell_type": "markdown",
   "metadata": {},
   "source": [
    "# Tree Search"
   ]
  },
  {
   "cell_type": "code",
   "execution_count": null,
   "metadata": {},
   "outputs": [],
   "source": [
    "def tree_search(word, words_list):\n",
    "    original_list = words_list\n",
    "    half = round(len(words_list) / 2)\n",
    "    # If half = zero, that means the word we are searching for is not in the list of words or the list is <= 1.\n",
    "    if half != 0:\n",
    "        num_words = len(words_list)\n",
    "        mid_word = words_list[half]\n",
    "        print(half, mid_word)\n",
    "        if word > mid_word:\n",
    "            words_list = words_list[half:len(words_list)]\n",
    "            tree_search(word, words_list)\n",
    "        elif word < mid_word:\n",
    "            words_list = words_list[:half]\n",
    "            tree_search(word, words_list)\n",
    "        elif word == mid_word:\n",
    "            print('Found!')\n",
    "            print(word, original_list[half])\n",
    "    else:\n",
    "        print('Not Found!')\n",
    "    \n",
    "        \n"
   ]
  },
  {
   "cell_type": "code",
   "execution_count": null,
   "metadata": {},
   "outputs": [],
   "source": [
    "print(tree_search('wake', words_list))"
   ]
  },
  {
   "cell_type": "code",
   "execution_count": null,
   "metadata": {},
   "outputs": [],
   "source": [
    "half = round(len(words_list) / 2)\n",
    "num_words = len(words_list)\n",
    "print('Half is : ', half)"
   ]
  },
  {
   "cell_type": "code",
   "execution_count": null,
   "metadata": {},
   "outputs": [],
   "source": [
    "#print(num_words, round(half))\n",
    "myword = 'portion'\n",
    "mid_word = words_list[half]\n",
    "if myword > mid_word:\n",
    "    words_list = words_list[half:len(words_list)]\n",
    "    half = round(len(words_list) / 2)\n",
    "    num_words = len(words_list)\n",
    "    print('Half is : ', half)\n",
    "    mid_word = words_list[half]\n",
    "    if myword > mid_word:\n",
    "        print(myword, 'greater than ', mid_word)\n",
    "    elif myword < mid_word:\n",
    "        print(myword, 'less than ', mid_word)\n",
    "        words_list = words_list[half:len(words_list)]\n",
    "        half = round(len(words_list) / 2)\n",
    "        num_words = len(words_list)\n",
    "        print('Half is : ', half)\n",
    "        mid_word = words_list[half]\n",
    "        if myword > mid_word:\n",
    "            print(myword, 'greater than ', mid_word)\n",
    "        elif myword < mid_word:\n",
    "            print(myword, 'less than ', mid_word)\n",
    "        else:\n",
    "            print(myword, 'equals to ', mid_word)\n",
    "    else:\n",
    "        print(myword, 'equals to ', mid_word)"
   ]
  },
  {
   "cell_type": "code",
   "execution_count": null,
   "metadata": {},
   "outputs": [],
   "source": [
    "import re\n",
    "import pyperclip"
   ]
  },
  {
   "cell_type": "code",
   "execution_count": null,
   "metadata": {},
   "outputs": [],
   "source": [
    "my_re = re.compile(r'\\d\\d\\d-\\d\\d\\d-\\d\\d\\d\\d')\n",
    "mo = my_re.search(pyperclip.paste())\n",
    "print(pyperclip.paste())\n",
    "mo.group()"
   ]
  },
  {
   "cell_type": "code",
   "execution_count": null,
   "metadata": {},
   "outputs": [],
   "source": [
    "batReg = re.compile(r'Bat(wo)?man')\n",
    "mo2 = batReg.search('The adventure of the  and Batwoman.')\n",
    "mo2.group()"
   ]
  },
  {
   "cell_type": "markdown",
   "metadata": {},
   "source": [
    "#### binary search"
   ]
  },
  {
   "cell_type": "code",
   "execution_count": 31,
   "metadata": {},
   "outputs": [],
   "source": [
    "def bubble_sort(l):\n",
    "    for i in range(len(l)-1):\n",
    "        for j in range(len(l)-1):\n",
    "            if l[j] > l[j+1]:\n",
    "                temp = l[j]\n",
    "                l[j] = l[j+1]\n",
    "                l[j+1] = temp\n",
    "                \n",
    "def binary_search(item, my_list):\n",
    "    found = False\n",
    "    first = 0\n",
    "    last = len(my_list) - 1\n",
    "\n",
    "    while first <= last and found == False:\n",
    "        mid = (first + last) // 2\n",
    "        if my_list[mid] == item:\n",
    "            found = True\n",
    "        else:\n",
    "            if my_list[mid] < item:\n",
    "                first = mid + 1\n",
    "            else:\n",
    "                last = mid - 1\n",
    "    return found"
   ]
  },
  {
   "cell_type": "code",
   "execution_count": 33,
   "metadata": {},
   "outputs": [
    {
     "name": "stdout",
     "output_type": "stream",
     "text": [
      "[30, 25, 1, 5, 97, 88, 11, 17]\n",
      "[1, 5, 11, 17, 25, 30, 88, 97]\n",
      "False\n"
     ]
    }
   ],
   "source": [
    "my_list = [30, 25, 1, 5, 97, 88, 11, 17]\n",
    "print(my_list)\n",
    "bubble_sort(my_list)\n",
    "print(my_list)\n",
    "\n",
    "print(binary_search(2, my_list))\n",
    "            \n",
    "        "
   ]
  },
  {
   "cell_type": "markdown",
   "metadata": {},
   "source": [
    "### text class"
   ]
  },
  {
   "cell_type": "code",
   "execution_count": 36,
   "metadata": {},
   "outputs": [],
   "source": [
    "class Text(object):\n",
    "    \n",
    "    def __init(self):\n",
    "        pass\n",
    "    \n",
    "    @classmethod\n",
    "    def upper(self, text):\n",
    "        return text.upper()"
   ]
  },
  {
   "cell_type": "code",
   "execution_count": 37,
   "metadata": {},
   "outputs": [
    {
     "name": "stdout",
     "output_type": "stream",
     "text": [
      "ALI ALMOHAMMED SALEH\n"
     ]
    }
   ],
   "source": [
    "a = \"Ali almohammed Saleh\"\n",
    "print(Text.upper(a))"
   ]
  },
  {
   "cell_type": "markdown",
   "metadata": {},
   "source": [
    "### Recap sorting"
   ]
  },
  {
   "cell_type": "code",
   "execution_count": 19,
   "metadata": {},
   "outputs": [
    {
     "name": "stdout",
     "output_type": "stream",
     "text": [
      "10\n",
      "[10, 99, 5, 24, 88, 70, 35, 11, 50, 100]\n",
      "[10, 5, 99, 24, 88, 70, 35, 11, 50, 100]\n",
      "[10, 5, 24, 99, 88, 70, 35, 11, 50, 100]\n",
      "[10, 5, 24, 88, 99, 70, 35, 11, 50, 100]\n",
      "[10, 5, 24, 88, 70, 99, 35, 11, 50, 100]\n",
      "[10, 5, 24, 88, 70, 35, 99, 11, 50, 100]\n",
      "[10, 5, 24, 88, 70, 35, 11, 99, 50, 100]\n",
      "[10, 5, 24, 88, 70, 35, 11, 50, 99, 100]\n",
      "[5, 10, 24, 88, 70, 35, 11, 50, 99, 100]\n",
      "[5, 10, 24, 70, 88, 35, 11, 50, 99, 100]\n",
      "[5, 10, 24, 70, 35, 88, 11, 50, 99, 100]\n",
      "[5, 10, 24, 70, 35, 11, 88, 50, 99, 100]\n",
      "[5, 10, 24, 70, 35, 11, 50, 88, 99, 100]\n",
      "[5, 10, 24, 35, 70, 11, 50, 88, 99, 100]\n",
      "[5, 10, 24, 35, 11, 70, 50, 88, 99, 100]\n",
      "[5, 10, 24, 35, 11, 50, 70, 88, 99, 100]\n",
      "[5, 10, 24, 11, 35, 50, 70, 88, 99, 100]\n",
      "[5, 10, 11, 24, 35, 50, 70, 88, 99, 100]\n",
      "[5, 10, 11, 24, 35, 50, 70, 88, 99, 100]\n"
     ]
    }
   ],
   "source": [
    "n = [99, 10, 5, 24, 88, 70, 35, 11, 50, 100]\n",
    "for i in range(len(n)):\n",
    "    for j in range(len(n)-1):\n",
    "        #print(i, j+1)\n",
    "        if n[j] > n[j+1]:\n",
    "            temp = n[j]\n",
    "            n[j] = n[j+1]\n",
    "            n[j+1] = temp\n",
    "            print(n)\n",
    "\n",
    "print(n)"
   ]
  },
  {
   "cell_type": "code",
   "execution_count": null,
   "metadata": {},
   "outputs": [],
   "source": []
  },
  {
   "cell_type": "code",
   "execution_count": null,
   "metadata": {},
   "outputs": [],
   "source": []
  },
  {
   "cell_type": "code",
   "execution_count": null,
   "metadata": {},
   "outputs": [],
   "source": []
  },
  {
   "cell_type": "code",
   "execution_count": null,
   "metadata": {},
   "outputs": [],
   "source": []
  }
 ],
 "metadata": {
  "kernelspec": {
   "display_name": "Python 3",
   "language": "python",
   "name": "python3"
  },
  "language_info": {
   "codemirror_mode": {
    "name": "ipython",
    "version": 3
   },
   "file_extension": ".py",
   "mimetype": "text/x-python",
   "name": "python",
   "nbconvert_exporter": "python",
   "pygments_lexer": "ipython3",
   "version": "3.7.2"
  }
 },
 "nbformat": 4,
 "nbformat_minor": 2
}
