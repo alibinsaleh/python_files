{
 "cells": [
  {
   "cell_type": "code",
   "execution_count": 9,
   "metadata": {},
   "outputs": [],
   "source": [
    "import urllib.request\n",
    "\n",
    "u = urllib.request.urlopen('http://ctabustracker.com/bustime/map/getBusesForRoute.jsp?route=22')\n",
    "data = u.read()\n",
    "f = open('rt22.xml', 'wb')\n",
    "f.write(data)\n",
    "f.close()\n"
   ]
  },
  {
   "cell_type": "code",
   "execution_count": 10,
   "metadata": {},
   "outputs": [
    {
     "name": "stdout",
     "output_type": "stream",
     "text": [
      "1790 42.0189208984375\n"
     ]
    }
   ],
   "source": [
    "# find_north.py\n",
    "#\n",
    "# Find all buses that are traveling northbound of \n",
    "# Dave's office\n",
    "\n",
    "daves_latitude = 41.98062\n",
    "daves_longitude = -87.668452\n",
    "\n",
    "from xml.etree.ElementTree import parse\n",
    "doc = parse('rt22.xml')\n",
    "\n",
    "for bus in doc.findall('bus'):\n",
    "    lat = float(bus.findtext('lat'))\n",
    "    if lat > daves_latitude:\n",
    "        direction = bus.findtext('d')\n",
    "        if direction.startswith('North'):\n",
    "            busid = bus.findtext('id')\n",
    "            print(busid, lat)\n",
    "            \n"
   ]
  },
  {
   "cell_type": "code",
   "execution_count": 12,
   "metadata": {},
   "outputs": [
    {
     "name": "stdout",
     "output_type": "stream",
     "text": [
      "----------\n"
     ]
    },
    {
     "ename": "KeyboardInterrupt",
     "evalue": "",
     "output_type": "error",
     "traceback": [
      "\u001b[0;31m---------------------------------------------------------------------------\u001b[0m",
      "\u001b[0;31mKeyboardInterrupt\u001b[0m                         Traceback (most recent call last)",
      "\u001b[0;32m<ipython-input-12-506b947deba1>\u001b[0m in \u001b[0;36m<module>\u001b[0;34m\u001b[0m\n\u001b[1;32m     27\u001b[0m \u001b[0;32mwhile\u001b[0m \u001b[0;32mTrue\u001b[0m\u001b[0;34m:\u001b[0m\u001b[0;34m\u001b[0m\u001b[0;34m\u001b[0m\u001b[0m\n\u001b[1;32m     28\u001b[0m     \u001b[0mmonitor\u001b[0m\u001b[0;34m(\u001b[0m\u001b[0;34m)\u001b[0m\u001b[0;34m\u001b[0m\u001b[0;34m\u001b[0m\u001b[0m\n\u001b[0;32m---> 29\u001b[0;31m     \u001b[0mtime\u001b[0m\u001b[0;34m.\u001b[0m\u001b[0msleep\u001b[0m\u001b[0;34m(\u001b[0m\u001b[0;36m60\u001b[0m\u001b[0;34m)\u001b[0m\u001b[0;34m\u001b[0m\u001b[0;34m\u001b[0m\u001b[0m\n\u001b[0m\u001b[1;32m     30\u001b[0m \u001b[0;34m\u001b[0m\u001b[0m\n",
      "\u001b[0;31mKeyboardInterrupt\u001b[0m: "
     ]
    }
   ],
   "source": [
    "# monitor.py\n",
    "\n",
    "import urllib\n",
    "from xml.etree.ElementTree import parse\n",
    "\n",
    "candidates = ['1918', '1790', '1862']\n",
    "daves_latitude = 41.980262\n",
    "\n",
    "def distance(lat1, lat2):\n",
    "    'Return distance in miles between two lats'\n",
    "    return 69*abs(lat1 - lat2)\n",
    "\n",
    "def monitor():\n",
    "    u = urllib.request.urlopen('http://ctabustracker.com/bustime/map/getBusesForRoute.jsp?route=22')\n",
    "    doc = parse(u)\n",
    "    for bus in doc.findall('bus'):\n",
    "        busid = bus.findtext('id')\n",
    "        if busid in candidates:\n",
    "            lat = float(bus.findtext('lat'))\n",
    "            dis = distance(lat, daves_latitude)\n",
    "            if dis < 2.65:\n",
    "                print('You are almost there!')\n",
    "            print(busid, dis, 'miles')\n",
    "    print('-' * 10)\n",
    "            \n",
    "import time\n",
    "while True:\n",
    "    monitor()\n",
    "    time.sleep(60)\n",
    "    "
   ]
  },
  {
   "cell_type": "markdown",
   "metadata": {},
   "source": [
    "# \"Diabolical Road Biking\""
   ]
  },
  {
   "cell_type": "code",
   "execution_count": 13,
   "metadata": {},
   "outputs": [],
   "source": [
    "import csv\n",
    "f = open('potholes.csv')\n",
    "for row in csv.DictReader(f):\n",
    "    addr = row['STREET ADDRESS']\n",
    "    num = row['NUMBER OF POTHOLES FILLED ON BLOCK']"
   ]
  },
  {
   "cell_type": "code",
   "execution_count": 14,
   "metadata": {},
   "outputs": [
    {
     "data": {
      "text/plain": [
       "'2527 W HADDON AVE'"
      ]
     },
     "execution_count": 14,
     "metadata": {},
     "output_type": "execute_result"
    }
   ],
   "source": [
    "addr"
   ]
  },
  {
   "cell_type": "code",
   "execution_count": null,
   "metadata": {},
   "outputs": [],
   "source": []
  }
 ],
 "metadata": {
  "kernelspec": {
   "display_name": "Python 3",
   "language": "python",
   "name": "python3"
  },
  "language_info": {
   "codemirror_mode": {
    "name": "ipython",
    "version": 3
   },
   "file_extension": ".py",
   "mimetype": "text/x-python",
   "name": "python",
   "nbconvert_exporter": "python",
   "pygments_lexer": "ipython3",
   "version": "3.7.2"
  }
 },
 "nbformat": 4,
 "nbformat_minor": 2
}
