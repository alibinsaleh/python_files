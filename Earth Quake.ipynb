{
 "cells": [
  {
   "cell_type": "code",
   "execution_count": 1,
   "metadata": {},
   "outputs": [],
   "source": [
    "import numpy as np\n",
    "import pandas as pd"
   ]
  },
  {
   "cell_type": "code",
   "execution_count": 21,
   "metadata": {},
   "outputs": [],
   "source": [
    "earthquake = pd.read_csv('source/earthquake.csv')"
   ]
  },
  {
   "cell_type": "code",
   "execution_count": 22,
   "metadata": {},
   "outputs": [
    {
     "data": {
      "text/html": [
       "<div>\n",
       "<style scoped>\n",
       "    .dataframe tbody tr th:only-of-type {\n",
       "        vertical-align: middle;\n",
       "    }\n",
       "\n",
       "    .dataframe tbody tr th {\n",
       "        vertical-align: top;\n",
       "    }\n",
       "\n",
       "    .dataframe thead th {\n",
       "        text-align: right;\n",
       "    }\n",
       "</style>\n",
       "<table border=\"1\" class=\"dataframe\">\n",
       "  <thead>\n",
       "    <tr style=\"text-align: right;\">\n",
       "      <th></th>\n",
       "      <th>earthquake_id</th>\n",
       "      <th>occurred_on</th>\n",
       "      <th>latitude</th>\n",
       "      <th>longitude</th>\n",
       "      <th>depth</th>\n",
       "      <th>magnitude</th>\n",
       "      <th>calculation_method</th>\n",
       "      <th>network_id</th>\n",
       "      <th>place</th>\n",
       "      <th>cause</th>\n",
       "    </tr>\n",
       "  </thead>\n",
       "  <tbody>\n",
       "    <tr>\n",
       "      <th>0</th>\n",
       "      <td>1</td>\n",
       "      <td>1969-01-01 9:07:06</td>\n",
       "      <td>51.096</td>\n",
       "      <td>-179.392</td>\n",
       "      <td>45.0</td>\n",
       "      <td>5.6</td>\n",
       "      <td>mw</td>\n",
       "      <td>iscgem812771</td>\n",
       "      <td>Andreanof Islands, Aleutian Islands, Alaska</td>\n",
       "      <td>earthquake</td>\n",
       "    </tr>\n",
       "    <tr>\n",
       "      <th>1</th>\n",
       "      <td>2</td>\n",
       "      <td>1969-01-02 17:50:48</td>\n",
       "      <td>-56.096</td>\n",
       "      <td>-27.842</td>\n",
       "      <td>80.1</td>\n",
       "      <td>6.0</td>\n",
       "      <td>mw</td>\n",
       "      <td>iscgemsup812819</td>\n",
       "      <td>South Sandwich Islands region</td>\n",
       "      <td>earthquake</td>\n",
       "    </tr>\n",
       "    <tr>\n",
       "      <th>2</th>\n",
       "      <td>3</td>\n",
       "      <td>1969-01-03 3:16:40</td>\n",
       "      <td>37.140</td>\n",
       "      <td>57.899</td>\n",
       "      <td>10.0</td>\n",
       "      <td>5.5</td>\n",
       "      <td>mw</td>\n",
       "      <td>iscgem812826</td>\n",
       "      <td>Turkmenistan-Iran border region</td>\n",
       "      <td>earthquake</td>\n",
       "    </tr>\n",
       "    <tr>\n",
       "      <th>3</th>\n",
       "      <td>4</td>\n",
       "      <td>1969-01-03 13:28:12</td>\n",
       "      <td>51.132</td>\n",
       "      <td>-179.306</td>\n",
       "      <td>15.0</td>\n",
       "      <td>5.9</td>\n",
       "      <td>mw</td>\n",
       "      <td>iscgem812841</td>\n",
       "      <td>Andreanof Islands, Aleutian Islands, Alaska</td>\n",
       "      <td>earthquake</td>\n",
       "    </tr>\n",
       "    <tr>\n",
       "      <th>4</th>\n",
       "      <td>5</td>\n",
       "      <td>1969-01-04 22:36:48</td>\n",
       "      <td>-6.850</td>\n",
       "      <td>129.821</td>\n",
       "      <td>105.0</td>\n",
       "      <td>5.8</td>\n",
       "      <td>mw</td>\n",
       "      <td>iscgem812879</td>\n",
       "      <td>Banda Sea</td>\n",
       "      <td>earthquake</td>\n",
       "    </tr>\n",
       "  </tbody>\n",
       "</table>\n",
       "</div>"
      ],
      "text/plain": [
       "   earthquake_id          occurred_on  latitude  longitude  depth  magnitude  \\\n",
       "0              1   1969-01-01 9:07:06    51.096   -179.392   45.0        5.6   \n",
       "1              2  1969-01-02 17:50:48   -56.096    -27.842   80.1        6.0   \n",
       "2              3   1969-01-03 3:16:40    37.140     57.899   10.0        5.5   \n",
       "3              4  1969-01-03 13:28:12    51.132   -179.306   15.0        5.9   \n",
       "4              5  1969-01-04 22:36:48    -6.850    129.821  105.0        5.8   \n",
       "\n",
       "  calculation_method       network_id  \\\n",
       "0                 mw     iscgem812771   \n",
       "1                 mw  iscgemsup812819   \n",
       "2                 mw     iscgem812826   \n",
       "3                 mw     iscgem812841   \n",
       "4                 mw     iscgem812879   \n",
       "\n",
       "                                         place       cause  \n",
       "0  Andreanof Islands, Aleutian Islands, Alaska  earthquake  \n",
       "1                South Sandwich Islands region  earthquake  \n",
       "2              Turkmenistan-Iran border region  earthquake  \n",
       "3  Andreanof Islands, Aleutian Islands, Alaska  earthquake  \n",
       "4                                    Banda Sea  earthquake  "
      ]
     },
     "execution_count": 22,
     "metadata": {},
     "output_type": "execute_result"
    }
   ],
   "source": [
    "earthquake.head()"
   ]
  },
  {
   "cell_type": "code",
   "execution_count": 23,
   "metadata": {},
   "outputs": [
    {
     "name": "stdout",
     "output_type": "stream",
     "text": [
      "<class 'pandas.core.frame.DataFrame'>\n",
      "RangeIndex: 23119 entries, 0 to 23118\n",
      "Data columns (total 10 columns):\n",
      " #   Column              Non-Null Count  Dtype  \n",
      "---  ------              --------------  -----  \n",
      " 0   earthquake_id       23119 non-null  int64  \n",
      " 1   occurred_on         23119 non-null  object \n",
      " 2   latitude            23119 non-null  float64\n",
      " 3   longitude           23119 non-null  float64\n",
      " 4   depth               23119 non-null  float64\n",
      " 5   magnitude           23119 non-null  float64\n",
      " 6   calculation_method  23119 non-null  object \n",
      " 7   network_id          23119 non-null  object \n",
      " 8   place               23119 non-null  object \n",
      " 9   cause               23119 non-null  object \n",
      "dtypes: float64(4), int64(1), object(5)\n",
      "memory usage: 1.3+ MB\n"
     ]
    }
   ],
   "source": [
    "earthquake.info()"
   ]
  },
  {
   "cell_type": "code",
   "execution_count": null,
   "metadata": {},
   "outputs": [],
   "source": []
  },
  {
   "cell_type": "code",
   "execution_count": null,
   "metadata": {},
   "outputs": [],
   "source": []
  },
  {
   "cell_type": "code",
   "execution_count": null,
   "metadata": {},
   "outputs": [],
   "source": []
  },
  {
   "cell_type": "code",
   "execution_count": null,
   "metadata": {},
   "outputs": [],
   "source": []
  },
  {
   "cell_type": "code",
   "execution_count": null,
   "metadata": {},
   "outputs": [],
   "source": []
  },
  {
   "cell_type": "code",
   "execution_count": null,
   "metadata": {},
   "outputs": [],
   "source": []
  },
  {
   "cell_type": "code",
   "execution_count": null,
   "metadata": {},
   "outputs": [],
   "source": []
  },
  {
   "cell_type": "code",
   "execution_count": null,
   "metadata": {},
   "outputs": [],
   "source": []
  },
  {
   "cell_type": "code",
   "execution_count": null,
   "metadata": {},
   "outputs": [],
   "source": []
  }
 ],
 "metadata": {
  "kernelspec": {
   "display_name": "Python 3",
   "language": "python",
   "name": "python3"
  },
  "language_info": {
   "codemirror_mode": {
    "name": "ipython",
    "version": 3
   },
   "file_extension": ".py",
   "mimetype": "text/x-python",
   "name": "python",
   "nbconvert_exporter": "python",
   "pygments_lexer": "ipython3",
   "version": "3.7.3"
  }
 },
 "nbformat": 4,
 "nbformat_minor": 4
}
