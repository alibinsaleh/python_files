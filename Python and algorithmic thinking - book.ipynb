{
 "cells": [
  {
   "cell_type": "markdown",
   "metadata": {},
   "source": [
    "### Exercise 32.2.13"
   ]
  },
  {
   "cell_type": "markdown",
   "metadata": {},
   "source": [
    "##### Write a Python program to create a 3 × 3 list from the one-dimensional list shown below, as follows: the first three elements of the one-dimensional list must be placed in the last row of the two-dimensional list, the next three elements of the one-dimensional list must be placed in the second row of the two-dimensional list, and the last three elements of the one-dimensional list must be placed in the first row of the two-dimensional list.\n"
   ]
  },
  {
   "cell_type": "code",
   "execution_count": 97,
   "metadata": {},
   "outputs": [
    {
     "name": "stdout",
     "output_type": "stream",
     "text": [
      "[18, 19, 20]\n",
      "[5, 6, 9]\n",
      "[16, 12, 3]\n"
     ]
    }
   ],
   "source": [
    "a = [16, 12, 3, 5, 6, 9, 18, 19, 20]\n",
    "b = [ [None] * 3 for i in range(3) ]\n",
    "\n",
    "k = 0\n",
    "for i in range(2, -1, -1):\n",
    "    for j in range(3):\n",
    "        b[i][j] = a[k]\n",
    "        k += 1\n",
    "    #print(b[i], end=\"\\t\")\n",
    "\n",
    "\n",
    "print(b[0])\n",
    "print(b[1])\n",
    "print(b[2])\n"
   ]
  },
  {
   "cell_type": "markdown",
   "metadata": {},
   "source": [
    "### Exercise 32.2.10"
   ]
  },
  {
   "cell_type": "markdown",
   "metadata": {},
   "source": [
    "##### “Write a Python program that prompts the user to enter an amount in US dollars and calculates and displays the corresponding currency value in Euros, British Pounds Sterling, Australian Dollars, and Canadian Dollars. The tables below contain the exchange rates for each currency for a one-week period. The program must calculate the average value of each currency and do the conversions based on that average value.”\n",
    "\n"
   ]
  },
  {
   "cell_type": "code",
   "execution_count": 27,
   "metadata": {},
   "outputs": [
    {
     "name": "stdout",
     "output_type": "stream",
     "text": [
      "Enter amount of Dollars (0 to quit): 0\n",
      "Sad to see you go :(\n"
     ]
    }
   ],
   "source": [
    "CURRENCIES = ['Brithish Pound Sterling', 'Euro', 'Canadian Dollar', 'Australian Dollar', 'Saudi Riyal']\n",
    "RATES = [\n",
    "    [1.320, 1.321, 1.332, 1.331, 1.341],\n",
    "    [1.143, 1.156, 1.138, 1.122, 1.129],\n",
    "    [0.757, 0.764, 0.760, 0.750, 0.749],\n",
    "    [0.720, 0.725, 0.729, 0.736, 0.739],\n",
    "    [0.271, 0.272, 0.270, 0.275, 0.277]\n",
    "]\n",
    "average_rate_value = [None] * 5\n",
    "\n",
    "while True:\n",
    "    dollars = int(input(\"Enter amount of Dollars (0 to quit): \"))\n",
    "    \n",
    "    if dollars <= 0:\n",
    "        print(\"Sad to see you go :(\")\n",
    "        break\n",
    "    \n",
    "    \n",
    "    print('Currency'.rjust(24), 'Rate')\n",
    "    for i in range(len(CURRENCIES)):\n",
    "        total_rates = 0\n",
    "        for j in range(len(average_rate_value)):\n",
    "            total_rates += RATES[i][j]\n",
    "        average_rate_value[i] = total_rates / 5\n",
    "        print(CURRENCIES[i].rjust(24), dollars / average_rate_value[i])\n",
    "        "
   ]
  },
  {
   "cell_type": "code",
   "execution_count": null,
   "metadata": {},
   "outputs": [],
   "source": []
  }
 ],
 "metadata": {
  "kernelspec": {
   "display_name": "Python 3",
   "language": "python",
   "name": "python3"
  },
  "language_info": {
   "codemirror_mode": {
    "name": "ipython",
    "version": 3
   },
   "file_extension": ".py",
   "mimetype": "text/x-python",
   "name": "python",
   "nbconvert_exporter": "python",
   "pygments_lexer": "ipython3",
   "version": "3.7.2"
  }
 },
 "nbformat": 4,
 "nbformat_minor": 2
}
