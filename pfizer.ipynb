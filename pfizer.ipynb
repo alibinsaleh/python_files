{
 "cells": [
  {
   "cell_type": "code",
   "execution_count": 1,
   "metadata": {},
   "outputs": [],
   "source": [
    "import pandas as pd\n",
    "import numpy as np"
   ]
  },
  {
   "cell_type": "code",
   "execution_count": 2,
   "metadata": {},
   "outputs": [],
   "source": [
    "pfe = pd.read_csv(\"source/PFE.csv\")"
   ]
  },
  {
   "cell_type": "code",
   "execution_count": 3,
   "metadata": {},
   "outputs": [
    {
     "data": {
      "text/html": [
       "<div>\n",
       "<style scoped>\n",
       "    .dataframe tbody tr th:only-of-type {\n",
       "        vertical-align: middle;\n",
       "    }\n",
       "\n",
       "    .dataframe tbody tr th {\n",
       "        vertical-align: top;\n",
       "    }\n",
       "\n",
       "    .dataframe thead th {\n",
       "        text-align: right;\n",
       "    }\n",
       "</style>\n",
       "<table border=\"1\" class=\"dataframe\">\n",
       "  <thead>\n",
       "    <tr style=\"text-align: right;\">\n",
       "      <th></th>\n",
       "      <th>Date</th>\n",
       "      <th>Open</th>\n",
       "      <th>High</th>\n",
       "      <th>Low</th>\n",
       "      <th>Close</th>\n",
       "      <th>Adj Close</th>\n",
       "      <th>Volume</th>\n",
       "    </tr>\n",
       "  </thead>\n",
       "  <tbody>\n",
       "    <tr>\n",
       "      <th>0</th>\n",
       "      <td>1972-06-01</td>\n",
       "      <td>0.000000</td>\n",
       "      <td>0.815346</td>\n",
       "      <td>0.802993</td>\n",
       "      <td>0.815346</td>\n",
       "      <td>0.183906</td>\n",
       "      <td>2458771</td>\n",
       "    </tr>\n",
       "    <tr>\n",
       "      <th>1</th>\n",
       "      <td>1972-06-02</td>\n",
       "      <td>0.815346</td>\n",
       "      <td>0.817817</td>\n",
       "      <td>0.802993</td>\n",
       "      <td>0.805463</td>\n",
       "      <td>0.181677</td>\n",
       "      <td>1613885</td>\n",
       "    </tr>\n",
       "    <tr>\n",
       "      <th>2</th>\n",
       "      <td>1972-06-05</td>\n",
       "      <td>0.805463</td>\n",
       "      <td>0.807934</td>\n",
       "      <td>0.798051</td>\n",
       "      <td>0.802993</td>\n",
       "      <td>0.181120</td>\n",
       "      <td>2585251</td>\n",
       "    </tr>\n",
       "    <tr>\n",
       "      <th>3</th>\n",
       "      <td>1972-06-06</td>\n",
       "      <td>0.802993</td>\n",
       "      <td>0.825229</td>\n",
       "      <td>0.800522</td>\n",
       "      <td>0.820288</td>\n",
       "      <td>0.185021</td>\n",
       "      <td>2347469</td>\n",
       "    </tr>\n",
       "    <tr>\n",
       "      <th>4</th>\n",
       "      <td>1972-06-07</td>\n",
       "      <td>0.820288</td>\n",
       "      <td>0.820288</td>\n",
       "      <td>0.807934</td>\n",
       "      <td>0.820288</td>\n",
       "      <td>0.185021</td>\n",
       "      <td>1032077</td>\n",
       "    </tr>\n",
       "  </tbody>\n",
       "</table>\n",
       "</div>"
      ],
      "text/plain": [
       "         Date      Open      High       Low     Close  Adj Close   Volume\n",
       "0  1972-06-01  0.000000  0.815346  0.802993  0.815346   0.183906  2458771\n",
       "1  1972-06-02  0.815346  0.817817  0.802993  0.805463   0.181677  1613885\n",
       "2  1972-06-05  0.805463  0.807934  0.798051  0.802993   0.181120  2585251\n",
       "3  1972-06-06  0.802993  0.825229  0.800522  0.820288   0.185021  2347469\n",
       "4  1972-06-07  0.820288  0.820288  0.807934  0.820288   0.185021  1032077"
      ]
     },
     "execution_count": 3,
     "metadata": {},
     "output_type": "execute_result"
    }
   ],
   "source": [
    "pfe.head()"
   ]
  },
  {
   "cell_type": "code",
   "execution_count": 4,
   "metadata": {},
   "outputs": [
    {
     "data": {
      "text/html": [
       "<div>\n",
       "<style scoped>\n",
       "    .dataframe tbody tr th:only-of-type {\n",
       "        vertical-align: middle;\n",
       "    }\n",
       "\n",
       "    .dataframe tbody tr th {\n",
       "        vertical-align: top;\n",
       "    }\n",
       "\n",
       "    .dataframe thead th {\n",
       "        text-align: right;\n",
       "    }\n",
       "</style>\n",
       "<table border=\"1\" class=\"dataframe\">\n",
       "  <thead>\n",
       "    <tr style=\"text-align: right;\">\n",
       "      <th></th>\n",
       "      <th>Date</th>\n",
       "      <th>Open</th>\n",
       "      <th>High</th>\n",
       "      <th>Low</th>\n",
       "      <th>Close</th>\n",
       "      <th>Adj Close</th>\n",
       "      <th>Volume</th>\n",
       "    </tr>\n",
       "  </thead>\n",
       "  <tbody>\n",
       "    <tr>\n",
       "      <th>12438</th>\n",
       "      <td>2021-09-27</td>\n",
       "      <td>43.919998</td>\n",
       "      <td>44.130001</td>\n",
       "      <td>43.509998</td>\n",
       "      <td>43.570000</td>\n",
       "      <td>43.570000</td>\n",
       "      <td>19955900</td>\n",
       "    </tr>\n",
       "    <tr>\n",
       "      <th>12439</th>\n",
       "      <td>2021-09-28</td>\n",
       "      <td>43.070000</td>\n",
       "      <td>43.279999</td>\n",
       "      <td>42.430000</td>\n",
       "      <td>43.040001</td>\n",
       "      <td>43.040001</td>\n",
       "      <td>28512200</td>\n",
       "    </tr>\n",
       "    <tr>\n",
       "      <th>12440</th>\n",
       "      <td>2021-09-29</td>\n",
       "      <td>43.220001</td>\n",
       "      <td>43.689999</td>\n",
       "      <td>43.080002</td>\n",
       "      <td>43.529999</td>\n",
       "      <td>43.529999</td>\n",
       "      <td>18037200</td>\n",
       "    </tr>\n",
       "    <tr>\n",
       "      <th>12441</th>\n",
       "      <td>2021-09-30</td>\n",
       "      <td>43.790001</td>\n",
       "      <td>44.049999</td>\n",
       "      <td>42.970001</td>\n",
       "      <td>43.009998</td>\n",
       "      <td>43.009998</td>\n",
       "      <td>21103300</td>\n",
       "    </tr>\n",
       "    <tr>\n",
       "      <th>12442</th>\n",
       "      <td>2021-10-01</td>\n",
       "      <td>42.520000</td>\n",
       "      <td>43.095001</td>\n",
       "      <td>41.700001</td>\n",
       "      <td>42.930000</td>\n",
       "      <td>42.930000</td>\n",
       "      <td>37815174</td>\n",
       "    </tr>\n",
       "  </tbody>\n",
       "</table>\n",
       "</div>"
      ],
      "text/plain": [
       "             Date       Open       High        Low      Close  Adj Close  \\\n",
       "12438  2021-09-27  43.919998  44.130001  43.509998  43.570000  43.570000   \n",
       "12439  2021-09-28  43.070000  43.279999  42.430000  43.040001  43.040001   \n",
       "12440  2021-09-29  43.220001  43.689999  43.080002  43.529999  43.529999   \n",
       "12441  2021-09-30  43.790001  44.049999  42.970001  43.009998  43.009998   \n",
       "12442  2021-10-01  42.520000  43.095001  41.700001  42.930000  42.930000   \n",
       "\n",
       "         Volume  \n",
       "12438  19955900  \n",
       "12439  28512200  \n",
       "12440  18037200  \n",
       "12441  21103300  \n",
       "12442  37815174  "
      ]
     },
     "execution_count": 4,
     "metadata": {},
     "output_type": "execute_result"
    }
   ],
   "source": [
    "pfe.tail()"
   ]
  },
  {
   "cell_type": "code",
   "execution_count": 5,
   "metadata": {},
   "outputs": [
    {
     "name": "stdout",
     "output_type": "stream",
     "text": [
      "<class 'pandas.core.frame.DataFrame'>\n",
      "RangeIndex: 12443 entries, 0 to 12442\n",
      "Data columns (total 7 columns):\n",
      " #   Column     Non-Null Count  Dtype  \n",
      "---  ------     --------------  -----  \n",
      " 0   Date       12443 non-null  object \n",
      " 1   Open       12443 non-null  float64\n",
      " 2   High       12443 non-null  float64\n",
      " 3   Low        12443 non-null  float64\n",
      " 4   Close      12443 non-null  float64\n",
      " 5   Adj Close  12443 non-null  float64\n",
      " 6   Volume     12443 non-null  int64  \n",
      "dtypes: float64(5), int64(1), object(1)\n",
      "memory usage: 680.6+ KB\n"
     ]
    }
   ],
   "source": [
    "pfe.info()"
   ]
  },
  {
   "cell_type": "code",
   "execution_count": 8,
   "metadata": {},
   "outputs": [],
   "source": [
    "pfe.Date = pd.to_datetime(pfe.Date)"
   ]
  },
  {
   "cell_type": "code",
   "execution_count": 9,
   "metadata": {},
   "outputs": [
    {
     "name": "stdout",
     "output_type": "stream",
     "text": [
      "<class 'pandas.core.frame.DataFrame'>\n",
      "RangeIndex: 12443 entries, 0 to 12442\n",
      "Data columns (total 7 columns):\n",
      " #   Column     Non-Null Count  Dtype         \n",
      "---  ------     --------------  -----         \n",
      " 0   Date       12443 non-null  datetime64[ns]\n",
      " 1   Open       12443 non-null  float64       \n",
      " 2   High       12443 non-null  float64       \n",
      " 3   Low        12443 non-null  float64       \n",
      " 4   Close      12443 non-null  float64       \n",
      " 5   Adj Close  12443 non-null  float64       \n",
      " 6   Volume     12443 non-null  int64         \n",
      "dtypes: datetime64[ns](1), float64(5), int64(1)\n",
      "memory usage: 680.6 KB\n"
     ]
    }
   ],
   "source": [
    "pfe.info()"
   ]
  },
  {
   "cell_type": "code",
   "execution_count": 51,
   "metadata": {},
   "outputs": [],
   "source": [
    "import csv\n",
    "from matplotlib import pyplot as plt"
   ]
  },
  {
   "cell_type": "code",
   "execution_count": 61,
   "metadata": {},
   "outputs": [
    {
     "name": "stdout",
     "output_type": "stream",
     "text": [
      "1998-08-31 -2.470745000000001\n",
      "1999-01-12 -2.569575999999998\n",
      "1999-04-14 -2.2730869999999967\n",
      "1999-04-15 -3.4788130000000024\n",
      "1999-04-19 -3.281150999999994\n",
      "1999-06-09 -3.4985769999999974\n",
      "1999-10-22 -2.1347279999999955\n",
      "1999-10-26 -2.0754280000000023\n",
      "1999-11-04 -2.2533229999999946\n",
      "2000-06-02 -2.016128000000002\n",
      "2000-07-13 -2.2533189999999976\n",
      "2000-10-18 -2.7277070000000023\n",
      "2001-01-03 -2.0161289999999994\n",
      "2001-04-10 -2.647059999999996\n",
      "2001-09-20 -2.1347240000000056\n",
      "2002-07-12 -4.174572000000001\n",
      "2004-12-16 -2.9886149999999994\n",
      "2006-12-01 -3.757116\n",
      "2008-10-09 -2.3434529999999985\n",
      "2015-08-21 -2.153700000000004\n",
      "2018-02-05 -2.2011419999999973\n",
      "2019-07-29 -2.2201120000000003\n",
      "2020-03-11 -3.1119549999999983\n",
      "2020-05-29 -2.6280860000000033\n",
      "2020-12-14 -2.559998\n"
     ]
    }
   ],
   "source": [
    "file = open('source/PFE.csv')\n",
    "reader = csv.reader(file)\n",
    "count = 0\n",
    "new_list = []\n",
    "for row in reader:\n",
    "    if reader.line_num == 1:\n",
    "        continue\n",
    "    new_list.append([row[0], row[1]]) \n",
    "    #print('Row #' + str(reader.line_num)+ ' ' + str(row+1))\n",
    "    \n",
    "\n",
    "count = 0\n",
    "x = []\n",
    "for row in new_list:\n",
    "    if count < len(new_list)-1:\n",
    "        n1 = new_list[count+1] \n",
    "        n2 = new_list[count]\n",
    "        count += 1\n",
    "    diff = float(n1[1]) - float(n2[1])\n",
    "    x.append(diff)\n",
    "    if diff < -2:\n",
    "        print(row[0], str(diff))\n",
    "    "
   ]
  },
  {
   "cell_type": "code",
   "execution_count": 56,
   "metadata": {},
   "outputs": [
    {
     "data": {
      "text/plain": [
       "[<matplotlib.lines.Line2D at 0x115475940>]"
      ]
     },
     "execution_count": 56,
     "metadata": {},
     "output_type": "execute_result"
    },
    {
     "data": {
      "image/png": "[encoded data removed]",
      "text/plain": [
       "<Figure size 432x288 with 1 Axes>"
      ]
     },
     "metadata": {
      "needs_background": "light"
     },
     "output_type": "display_data"
    }
   ],
   "source": [
    "plt.plot(x)"
   ]
  },
  {
   "cell_type": "code",
   "execution_count": null,
   "metadata": {},
   "outputs": [],
   "source": []
  },
  {
   "cell_type": "code",
   "execution_count": null,
   "metadata": {},
   "outputs": [],
   "source": []
  }
 ],
 "metadata": {
  "kernelspec": {
   "display_name": "Python 3",
   "language": "python",
   "name": "python3"
  },
  "language_info": {
   "codemirror_mode": {
    "name": "ipython",
    "version": 3
   },
   "file_extension": ".py",
   "mimetype": "text/x-python",
   "name": "python",
   "nbconvert_exporter": "python",
   "pygments_lexer": "ipython3",
   "version": "3.7.2"
  }
 },
 "nbformat": 4,
 "nbformat_minor": 2
}
